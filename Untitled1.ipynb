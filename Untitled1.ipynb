{
  "nbformat": 4,
  "nbformat_minor": 0,
  "metadata": {
    "colab": {
      "provenance": [],
      "authorship_tag": "ABX9TyP/9U4jJUoHzqj4MKfylfLO",
      "include_colab_link": true
    },
    "kernelspec": {
      "name": "python3",
      "display_name": "Python 3"
    },
    "language_info": {
      "name": "python"
    }
  },
  "cells": [
    {
      "cell_type": "markdown",
      "metadata": {
        "id": "view-in-github",
        "colab_type": "text"
      },
      "source": [
        "<a href=\"https://colab.research.google.com/github/dimaPosh/netck/blob/main/Untitled1.ipynb\" target=\"_parent\"><img src=\"https://colab.research.google.com/assets/colab-badge.svg\" alt=\"Open In Colab\"/></a>"
      ]
    },
    {
      "cell_type": "code",
      "execution_count": null,
      "metadata": {
        "colab": {
          "base_uri": "https://localhost:8080/"
        },
        "id": "qm_djXglmhe-",
        "outputId": "14256e8e-67bf-47dd-be9a-294934d143b7"
      },
      "outputs": [
        {
          "output_type": "stream",
          "name": "stdout",
          "text": [
            "42\n"
          ]
        }
      ],
      "source": [
        "print(42)"
      ]
    },
    {
      "cell_type": "code",
      "source": [
        "for x in range(5):\n",
        "  print(x)"
      ],
      "metadata": {
        "colab": {
          "base_uri": "https://localhost:8080/"
        },
        "id": "5shcu48dpjWn",
        "outputId": "83080d13-e1c3-46c1-aece-72c78b7ffd4b"
      },
      "execution_count": null,
      "outputs": [
        {
          "output_type": "stream",
          "name": "stdout",
          "text": [
            "0\n",
            "1\n",
            "2\n",
            "3\n",
            "4\n"
          ]
        }
      ]
    },
    {
      "cell_type": "markdown",
      "source": [
        "qweqwe\n",
        "qweqweqwe\n",
        "\n",
        "# qweqwe"
      ],
      "metadata": {
        "id": "dcmFxZ6dpqkc"
      }
    },
    {
      "cell_type": "markdown",
      "source": [
        "$y' = -ky$"
      ],
      "metadata": {
        "id": "dQ2uIAKxp2EY"
      }
    },
    {
      "cell_type": "markdown",
      "source": [],
      "metadata": {
        "id": "eC8OnV5kp7vs"
      }
    },
    {
      "cell_type": "code",
      "source": [],
      "metadata": {
        "id": "IKQnG3d6rTgW"
      },
      "execution_count": null,
      "outputs": []
    },
    {
      "cell_type": "code",
      "source": [
        "import numpy as np\n",
        "\n",
        "from scipy.integrate import odeint "
      ],
      "metadata": {
        "id": "IVhR53GQqc_-"
      },
      "execution_count": null,
      "outputs": []
    },
    {
      "cell_type": "code",
      "source": [
        "def dydt(y, t):\n",
        "  k = 0.42\n",
        "  return -k * y"
      ],
      "metadata": {
        "id": "nQKkrf-ArByM"
      },
      "execution_count": null,
      "outputs": []
    },
    {
      "cell_type": "code",
      "source": [],
      "metadata": {
        "id": "nHMEIECfFaFV"
      },
      "execution_count": null,
      "outputs": []
    },
    {
      "cell_type": "code",
      "source": [],
      "metadata": {
        "id": "JpXQggo_FbAU"
      },
      "execution_count": null,
      "outputs": []
    },
    {
      "cell_type": "code",
      "source": [],
      "metadata": {
        "id": "r7lXUm8qFcEh"
      },
      "execution_count": null,
      "outputs": []
    },
    {
      "cell_type": "code",
      "source": [
        "t = np.linspace(0, 10, 100)"
      ],
      "metadata": {
        "id": "ZZ08r0ZEr2De"
      },
      "execution_count": null,
      "outputs": []
    },
    {
      "cell_type": "code",
      "source": [
        "solve = odeint(dydt, y0=1, t=t)"
      ],
      "metadata": {
        "id": "WEbPbES7sMWQ"
      },
      "execution_count": null,
      "outputs": []
    },
    {
      "cell_type": "code",
      "source": [
        "solve.flatten()"
      ],
      "metadata": {
        "colab": {
          "base_uri": "https://localhost:8080/"
        },
        "id": "KDw_vPHKstlR",
        "outputId": "497d592d-f5e2-4ab0-a006-846b68900a91"
      },
      "execution_count": null,
      "outputs": [
        {
          "output_type": "execute_result",
          "data": {
            "text/plain": [
              "array([1.        , 0.9584631 , 0.91865149, 0.88049353, 0.84392053,\n",
              "       0.80886666, 0.77526882, 0.74306651, 0.7122018 , 0.68261915,\n",
              "       0.65426528, 0.62708911, 0.60104174, 0.57607632, 0.55214788,\n",
              "       0.52921336, 0.50723146, 0.48616263, 0.46596893, 0.44661401,\n",
              "       0.42806304, 0.41028262, 0.39324074, 0.37690674, 0.36125119,\n",
              "       0.34624592, 0.33186392, 0.31807931, 0.30486727, 0.29220402,\n",
              "       0.28006676, 0.26843365, 0.25728374, 0.24659696, 0.23635408,\n",
              "       0.22653666, 0.21712702, 0.20810823, 0.19946406, 0.19117893,\n",
              "       0.18323795, 0.17562681, 0.16833181, 0.16133982, 0.15463826,\n",
              "       0.14821506, 0.14205866, 0.13615798, 0.13050239, 0.12508173,\n",
              "       0.11988621, 0.11490651, 0.11013364, 0.10555903, 0.10117443,\n",
              "       0.09697196, 0.09294404, 0.08908343, 0.08538318, 0.08183662,\n",
              "       0.07843738, 0.07517933, 0.07205661, 0.0690636 , 0.06619491,\n",
              "       0.06344538, 0.06081005, 0.05828419, 0.05586324, 0.05354285,\n",
              "       0.05131885, 0.04918722, 0.04714414, 0.04518592, 0.04330903,\n",
              "       0.04151011, 0.03978591, 0.03813332, 0.03654938, 0.03503123,\n",
              "       0.03357614, 0.0321815 , 0.03084477, 0.02956358, 0.0283356 ,\n",
              "       0.02715862, 0.02603054, 0.02494931, 0.02391299, 0.02291972,\n",
              "       0.02196771, 0.02105523, 0.02018066, 0.01934242, 0.018539  ,\n",
              "       0.01776894, 0.01703088, 0.01632347, 0.01564544, 0.01499558])"
            ]
          },
          "metadata": {},
          "execution_count": 14
        }
      ]
    },
    {
      "cell_type": "code",
      "source": [
        "import matplotlib.pyplot as plt\n",
        "\n",
        "plt.plot(t, solve, label = r\"$y' = -ky$\")\n",
        "plt.grid()\n",
        "plt.legend()\n",
        "plt.show()"
      ],
      "metadata": {
        "id": "fvLyCNtRs-uF"
      },
      "execution_count": null,
      "outputs": []
    }
  ]
}